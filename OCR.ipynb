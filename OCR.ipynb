{
 "cells": [
  {
   "cell_type": "markdown",
   "metadata": {},
   "source": [
    "https://github.com/tesseract-ocr/tesseract"
   ]
  },
  {
   "cell_type": "code",
   "execution_count": 5,
   "metadata": {},
   "outputs": [],
   "source": [
    "from cer_and_wer import CER, WER"
   ]
  },
  {
   "cell_type": "code",
   "execution_count": 4,
   "metadata": {},
   "outputs": [],
   "source": [
    "import pytesseract\n",
    "import os\n",
    "import re"
   ]
  },
  {
   "cell_type": "code",
   "execution_count": 3,
   "metadata": {},
   "outputs": [],
   "source": [
    "def OCR_lat_eng(source):\n",
    "    return pytesseract.image_to_string(source, lang = \"eng+lat\")\n",
    "\n",
    "def OCR_mono(source, l):\n",
    "    return pytesseract.image_to_string(source, lang = l)"
   ]
  },
  {
   "cell_type": "code",
   "execution_count": 4,
   "metadata": {},
   "outputs": [],
   "source": [
    "#compare lat+eng model with monolanguage model\n",
    "images = [\"./CERandWER_data/leviathansivedem00hobb.png\", \n",
    "          \"./CERandWER_data/montfaucon_palaeographica_graeca_p182.png\", \n",
    "          \"./CERandWER_data/pugna_porcorum_p8.png\"]\n",
    "ref_texts = [\"./CERandWER_data/leviathansivedem00hobb.txt\", \n",
    "             \"./CERandWER_data/montfaucon_palaeographica_graeca_p182.txt\", \n",
    "             \"./CERandWER_data/pugna_porcorum_p8.txt\"]"
   ]
  },
  {
   "cell_type": "code",
   "execution_count": 5,
   "metadata": {},
   "outputs": [
    {
     "name": "stdout",
     "output_type": "stream",
     "text": [
      "0  WER lat  ([134, 29, 1], 0.478134110787172)  WER lat+eng  ([133, 30, 1], 0.478134110787172)\n",
      "0  CER lat  ([168, 35, 27], 0.09969657563935848)  CER lat+eng  ([165, 37, 23], 0.09752925877763328)\n",
      "1  WER lat  ([137, 4, 7], 0.3016194331983806)  WER lat+eng  ([136, 3, 8], 0.2975708502024291)\n",
      "1  CER lat  ([128, 11, 35], 0.055011065444198544)  CER lat+eng  ([125, 7, 39], 0.05406259879860892)\n",
      "2  WER lat  ([9, 0, 0], 0.09090909090909091)  WER lat+eng  ([9, 0, 0], 0.09090909090909091)\n",
      "2  CER lat  ([11, 1, 0], 0.018404907975460124)  CER lat+eng  ([11, 1, 0], 0.018404907975460124)\n"
     ]
    }
   ],
   "source": [
    "for i in range(len(ref_texts)):\n",
    "    mono_OCR = OCR_mono(images[i], \"lat\")\n",
    "    eng_lat_OCR = OCR_lat_eng(images[i])\n",
    "    with open(ref_texts[i], \"r\") as f:\n",
    "        ref_text = f.read()\n",
    "    \n",
    "    mono_OCR = mono_OCR.split()\n",
    "    eng_lat_OCR = eng_lat_OCR.split()\n",
    "    ref_text = ref_text.split()\n",
    "    print(str(i), \" WER lat \", WER(mono_OCR, ref_text), \" WER lat+eng \", WER(eng_lat_OCR, ref_text))\n",
    "    print(str(i), \" CER lat \", CER(mono_OCR, ref_text), \" CER lat+eng \", CER(eng_lat_OCR, ref_text))"
   ]
  },
  {
   "cell_type": "code",
   "execution_count": 4,
   "metadata": {},
   "outputs": [],
   "source": [
    "def convert_pdf(filename, source = \"/home/mariya/Documents/Untitled Folder/Data/L006/\"):\n",
    "    with Image(filename=source + filename, resolution=300) as all_pages:\n",
    "        for i, page in enumerate(all_pages.sequence):\n",
    "            with Image(page) as img:\n",
    "                img.save(filename=source+str(i)+'.jpg')"
   ]
  },
  {
   "cell_type": "code",
   "execution_count": 5,
   "metadata": {},
   "outputs": [],
   "source": [
    "def paragraph(page, min_length = 5):\n",
    "    paragraphs = re.split(\"\\n\", page)\n",
    "    paragraphs = [p for p in paragraphs if len(p) > min_length]\n",
    "    return paragraphs"
   ]
  },
  {
   "cell_type": "code",
   "execution_count": 2,
   "metadata": {},
   "outputs": [],
   "source": [
    "def OCR_one_book(path, source, name_book, start_page = 39):\n",
    "    \"\"\"\n",
    "    tesseract for one book. start_page - cut first start_page pages\n",
    "    \"\"\"\n",
    "    os.mkdir(path + name_book + '/')\n",
    "    all_pages = os.listdir(source)\n",
    "    all_pages.sort(key = lambda s1: int(s1[5:-4]))\n",
    "    for i in range(start_page, len(all_pages)):\n",
    "        with open(path + str(name_book) + '/' + str(i) + \".txt\", 'w') as f:\n",
    "            f.write(pytesseract.image_to_string(source + all_pages[i], lang = \"eng+lat\"))"
   ]
  },
  {
   "cell_type": "code",
   "execution_count": 38,
   "metadata": {},
   "outputs": [],
   "source": [
    "latin_test = \"L072/\" #Commentaries on the Gallic War\n",
    "path = \"./Data_text/\""
   ]
  },
  {
   "cell_type": "code",
   "execution_count": null,
   "metadata": {},
   "outputs": [
    {
     "name": "stdout",
     "output_type": "stream",
     "text": [
      "L381\n",
      "L381  done\n",
      "L039\n",
      "L039  done\n",
      "L072\n",
      "L072  done\n",
      "L139\n",
      "L139  done\n",
      "L251\n",
      "L251  done\n",
      "L041\n",
      "L041  done\n",
      "L394\n",
      "L394  done\n",
      "L191\n",
      "L191  done\n",
      "L094\n",
      "L094  done\n",
      "L038\n",
      "L038  done\n",
      "L114\n",
      "L114  done\n",
      "L060\n",
      "L060  done\n",
      "L248\n",
      "L248  done\n",
      "L059\n",
      "L059  done\n",
      "L027\n",
      "L027  done\n",
      "L140\n",
      "L140  done\n",
      "L253\n",
      "L253  done\n",
      "L163\n",
      "L163  done\n",
      "L214\n",
      "L214  done\n",
      "L262\n",
      "L262  done\n",
      "L031\n",
      "L031  done\n",
      "L040\n",
      "L040  done\n",
      "L030\n",
      "L030  done\n",
      "L075\n",
      "L075  done\n",
      "L393\n",
      "L393  done\n",
      "L111\n",
      "L111  done\n",
      "L250\n",
      "L250  done\n",
      "L113\n",
      "L113  done\n",
      "L076\n",
      "L076  done\n",
      "L115\n",
      "L115  done\n",
      "L263\n"
     ]
    }
   ],
   "source": [
    "from os import walk\n",
    "for dir_name in os.listdir(\"./data_png/\"):\n",
    "    if len(dir_name) == 4:\n",
    "        print(dir_name)\n",
    "        OCR_one_book(\"./data_text_new/\", \"./data_png/\" + dir_name + '/', dir_name)\n",
    "        print(dir_name, \" done\")"
   ]
  },
  {
   "cell_type": "code",
   "execution_count": 5,
   "metadata": {},
   "outputs": [
    {
     "name": "stdout",
     "output_type": "stream",
     "text": [
      "L135\n",
      "L135  done\n",
      "L096\n",
      "L096  done\n",
      "L015\n",
      "L015  done\n",
      "L043\n",
      "L043  done\n",
      "L387\n",
      "L387  done\n",
      "L353\n",
      "L353  done\n",
      "L055\n",
      "L055  done\n",
      "L136\n",
      "L136  done\n",
      "L133\n",
      "L133  done\n",
      "L220\n",
      "L220  done\n",
      "L370\n",
      "L370  done\n",
      "L371\n",
      "L371  done\n",
      "L152\n",
      "L152  done\n",
      "L355\n",
      "L355  done\n",
      "L249\n",
      "L249  done\n",
      "L095\n",
      "L095  done\n",
      "L367\n",
      "L367  done\n",
      "L074\n",
      "L074  done\n",
      "L006\n",
      "L006  done\n",
      "L061\n",
      "L061  done\n",
      "L026\n",
      "L026  done\n",
      "L035\n",
      "L035  done\n",
      "L042\n",
      "L042  done\n",
      "L112\n",
      "L112  done\n",
      "L151\n",
      "L151  done\n",
      "L044\n",
      "L044  done\n",
      "L392\n",
      "L392  done\n",
      "L194\n",
      "L194  done\n"
     ]
    }
   ],
   "source": [
    "import os\n",
    "#check\n",
    "#L044 - 100 | 400 !\n",
    "books = set()\n",
    "from os import walk \n",
    "for dir_name in os.listdir(\"./data_png/\"):\n",
    "    if dir_name not in os.listdir(\"./data_text_new/\"):\n",
    "        print(dir_name)\n",
    "        OCR_one_book(\"./data_text_new/\", \"./data_png/\" + dir_name + '/', dir_name)\n",
    "        print(dir_name, \" done\")"
   ]
  },
  {
   "cell_type": "code",
   "execution_count": null,
   "metadata": {},
   "outputs": [],
   "source": []
  }
 ],
 "metadata": {
  "kernelspec": {
   "display_name": "Python 3",
   "language": "python",
   "name": "python3"
  },
  "language_info": {
   "codemirror_mode": {
    "name": "ipython",
    "version": 3
   },
   "file_extension": ".py",
   "mimetype": "text/x-python",
   "name": "python",
   "nbconvert_exporter": "python",
   "pygments_lexer": "ipython3",
   "version": "3.5.2"
  }
 },
 "nbformat": 4,
 "nbformat_minor": 2
}
